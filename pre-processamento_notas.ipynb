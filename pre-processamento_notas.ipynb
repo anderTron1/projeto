{
 "cells": [
  {
   "cell_type": "code",
   "execution_count": 41,
   "id": "31950b41",
   "metadata": {},
   "outputs": [],
   "source": [
    "from pathlib import Path\n",
    "\n",
    "import fitz\n",
    "\n",
    "import pandas as pd \n",
    "import re\n"
   ]
  },
  {
   "cell_type": "code",
   "execution_count": 86,
   "id": "251515c8",
   "metadata": {},
   "outputs": [],
   "source": [
    "def extrair_elementos_docling(caminho):\n",
    "    doc = fitz.open(str(caminho))\n",
    "    text = \"\"\n",
    "    for page in doc:\n",
    "       text += page.get_text()\n",
    "    doc.close()\n",
    "    return text\n",
    "\n",
    "def parse_notas(texto):\n",
    "    # Extrair cabeçalho\n",
    "    turma = re.search(r\"Turma\\s+(\\w+)\", texto)\n",
    "    disciplina = re.search(r\"^Disciplina\\s*$\\n^(.+)$\", texto, re.MULTILINE)\n",
    "    ano_letivo = re.search(r\"Ano Letivo\\s+(\\d{4})\", texto)\n",
    "\n",
    "    turma = turma.group(1) if turma else None\n",
    "    disciplina = disciplina.group(1).strip() if disciplina else None\n",
    "    ano_letivo = int(ano_letivo.group(1)) if ano_letivo else None\n",
    "\n",
    "    # Expressão para capturar tudo de uma vez (aluno por aluno)\n",
    "    padrao = re.compile(\n",
    "        r\"\\b(\\d+)\\s+\"                           # ordem (ignoramos)\n",
    "        r\"(\\d{10}-\\d)\\s+\"                       # matrícula\n",
    "        r\"([A-ZÀ-ÿ\\s]+?)\\s+\"                    # nome (lazy)\n",
    "        r\"(-|[\\d,]+)\\s+\"                        # nota 1\n",
    "        r\"(-|[\\d,]+)\\s+\"                        # nota 2\n",
    "        r\"(-|[\\d,]+)\\s+\"                        # nota 3\n",
    "        r\"(-|[\\d,]+)\\s+\"                        # nota 4\n",
    "        r\"(-|[\\d,]+)\\s+\"                        # para fechar\n",
    "        r\"(Aprovado|Reprovado|\\(transferido\\))\",  # status\n",
    "        flags=re.MULTILINE\n",
    "    )\n",
    "\n",
    "    dados = []\n",
    "    for match in re.findall(padrao, texto):\n",
    "        _, matricula, nome, n1, n2, n3, n4, fechar, status = match\n",
    "        dados.append({\n",
    "            \"turma\": turma,\n",
    "            \"ano_letivo\": ano_letivo,\n",
    "            \"matricula\": matricula,\n",
    "            \"aluno\": nome.strip(),\n",
    "            \"disciplina\": disciplina,\n",
    "            \"nota_1bim\": float(n1.replace(',', '.')) if n1 != '-' else None,\n",
    "            \"nota_2bim\": float(n2.replace(',', '.')) if n2 != '-' else None,\n",
    "            \"nota_3bim\": float(n3.replace(',', '.')) if n3 != '-' else None,\n",
    "            \"nota_4bim\": float(n4.replace(',', '.')) if n4 != '-' else None,\n",
    "            \"para_fechar\": float(fechar.replace(',', '.')) if fechar != '-' else None,\n",
    "            \"status\": status\n",
    "        })\n",
    "\n",
    "    return pd.DataFrame(dados)"
   ]
  },
  {
   "cell_type": "code",
   "execution_count": 47,
   "id": "db3b7904",
   "metadata": {},
   "outputs": [
    {
     "data": {
      "text/plain": [
       "WindowsPath('D:/Documentos/tcc - IA/projeto/bases/notas/1A_ Mapa de notas_ Matemática.pdf')"
      ]
     },
     "execution_count": 47,
     "metadata": {},
     "output_type": "execute_result"
    }
   ],
   "source": [
    "path = Path().resolve()\n",
    "current_path = path / \"bases/notas/1A_ Mapa de notas_ Matemática.pdf\"\n",
    "current_path"
   ]
  },
  {
   "cell_type": "code",
   "execution_count": 88,
   "id": "2c5dada1",
   "metadata": {},
   "outputs": [],
   "source": [
    "texto = extrair_elementos_docling(current_path)\n",
    "df = parse_notas(texto)\n",
    "df.to_csv(\"Notas_alunos.csv\", index=False)"
   ]
  },
  {
   "cell_type": "code",
   "execution_count": 37,
   "id": "536963c8",
   "metadata": {},
   "outputs": [
    {
     "name": "stdout",
     "output_type": "stream",
     "text": [
      "23/12/24, 09:43\n",
      "Relatório de Fechamento de Notas\n",
      "ESTADO DE GOIÁS SECRETARIA DE ESTADO DA EDUCAÇÃO 52033589 - CENTRO DE ENSINO EM PERÍODO INTEGRAL PROFESSOR JOAQUIM CARVALHO FERREIRA\n",
      "Relatório de Fechamento de Notas por Disciplina\n",
      "Data da Impressão: 23/12/2024\n",
      "Ano Letivo/Semestre: 2024/2\n",
      "Página 1\n",
      "Composição de Ensino Ensino Médio Concomitante Intercomplementar à Educação Profissional - Técnico em Desenvolvimento em Web e Cibersegurança Turma Turno Disciplina\n",
      "1A Matutino MATEMÁTICA\n",
      "Série Data Emissão\n",
      "1ª Série 23/12/2024\n",
      "Ano Letivo\n",
      "2024\n",
      "Ord.\n",
      "Matrícula ANA CLARA REIS DA SILVA 1 2412752317-6 ANA JULIA DA SILVA E SILVA 2 2412727121-1 ANNA CLARA CALERO GUIDA 3 1811397482-9 DÉRICK KAUÃ LIMA FERREIRA 4 2412732617-5 ELIAESTE GOMES SARDINHA NETO 5 2312711135-2 ELLEN ESTER DIAS FONSÊCA 6 1811400823-9 EVELYN GUEDES RAMOS 7 2312382937-0 FERNANDA SANTOS SILVA 8 2011829467-6 GABRIEL FERNANDO CARDIM OLIVEIRA FERNANDES 9 2412698289-2 GEANA MARIELY MIRANDA MORAES 10 1310202082-6 GEOVANNA SODRE CRUZ 11 2312506018-1 IZADORA RODRIGUES FELIX 12 2312544975-5 JOÃO PEDRO EVARISTO SAMPAIO 13 1711116513-0 JOSE WESLEY DA CONCEIÇAO SILVA 14 2011694975-2 JULIANA YASMIN MENDES CHAGAS 15 2111991371-6 JULLIA VICTORIA GUIMARÃES COSTA 16 2412726562-7 KAMILLY VITORIA DOS REIS SOUZA 17 2111922702-7 KAUÂ VICTOR ALVES RODRIGUES 18 1911550937-3 KAUANA VITORIA SOARES LEMOS 19 2412739240-9 LEONNI NERES SILVA 20 2412721594-6 MARIA CLARA EUGÊNIA FERREIRA 21 2312350967-4 PABLO HENRIQUE DOS REIS MAGALHÃES 22 1610965440-9 PAULO EDUARDO GOMES FORTUNATO 23 2111993509-3 RHUAN CARLOS GALENO DA SILVA 24 2112128423-8 SHEILA CINDY GUARACHI CONDORI 25 2412760783-3 THYESKA CRISTINI MACHADO 26 2212247310-0 27 2011788460-8 VICTOR DANIEL OLIVEIRA PEREIRA 28 1310202065-5 WESLEI JUNIO SOUZA FELISBERTO\n",
      "Nome do Aluno\n",
      "1º Bim. 2º Bim. 3º Bim. 4º Bim. Para fechar\n",
      "7,9 8,0 6,9 6,1 6,1 - 5,6 6,1 7,2 - - - 6,2 - 7,5 6,8 7,5 7,6 6,4 6,1 7,5 6,1 2,2 6,3 8,0 - 6,0 -\n",
      "6,1 6,5 6,5 6,1 6,0 - 7,6 6,8 6,0 - - - 6,1 - 6,9 6,1 6,5 6,0 6,0 6,5 7,5 6,8 2,8 6,0 6,9 - 6,2 -\n",
      "4,6 6,0 6,0 6,8 6,0 - 6,3 6,5 6,0 - - - 6,1 - 4,6 6,0 6,1 6,0 6,1 6,0 6,2 6,1 2,8 6,0 6,0 - 6,1 -\n",
      "6,1 6,0 4,6 7,6 6,6 - 9,0 7,2 4,8 - - - 6,1 - 6,0 5,1 6,0 4,4 5,8 6,7 2,9 5,8 1,3 6,0 8,2 - 6,2 -\n",
      "0 0 0 0 0 - 0 0 0 - - - 0 - 0 0 0 0 0 0 0 0 10 0 0 - 0 -\n",
      "Situação Disciplina\n",
      "Aprovado Aprovado Aprovado Aprovado Aprovado (transferido) Aprovado Aprovado Aprovado (transferido) (transferido) (transferido) Aprovado (transferido) Aprovado Aprovado Aprovado Aprovado Aprovado Aprovado Aprovado Aprovado Reprovado Aprovado Aprovado (transferido) Aprovado (transferido)\n",
      "Nota do Simulado será entre 0,0 a 1,0 a ser acrescentado na menor nota dos bimestres correspondentes ao primeiro e/ou ao segundo semestre(s) letivo(s), sendo este bimestre assinalado por um asterisco (*)\n",
      "https://sige.educacao.go.gov.br/sige/default.asp\n",
      "1/1\n"
     ]
    }
   ],
   "source": [
    "print(texto)"
   ]
  }
 ],
 "metadata": {
  "kernelspec": {
   "display_name": "venv",
   "language": "python",
   "name": "python3"
  },
  "language_info": {
   "codemirror_mode": {
    "name": "ipython",
    "version": 3
   },
   "file_extension": ".py",
   "mimetype": "text/x-python",
   "name": "python",
   "nbconvert_exporter": "python",
   "pygments_lexer": "ipython3",
   "version": "3.10.11"
  }
 },
 "nbformat": 4,
 "nbformat_minor": 5
}
