{
 "cells": [
  {
   "cell_type": "code",
   "execution_count": 2,
   "id": "056d4227",
   "metadata": {},
   "outputs": [],
   "source": [
    "# Carregando dados\n",
    "from pathlib import Path\n",
    "import fitz\n",
    "import re \n",
    "import pandas as pd "
   ]
  },
  {
   "cell_type": "code",
   "execution_count": null,
   "id": "64f873ce",
   "metadata": {},
   "outputs": [],
   "source": [
    "def get_bimestre_from_date(date_str):\n",
    "    # date_str no formato '01.04' ou '01 ABR' etc\n",
    "    # Aqui você transforma em mês e decide o bimestre (1 a 4)\n",
    "    import datetime\n",
    "    try:\n",
    "        # Exemplo com '01.04' (dia.mês)\n",
    "        day, month = map(int, date_str.split('.')[:2])\n",
    "    except:\n",
    "        # Pode adaptar para o formato '01 ABR' convertendo ABR para 4\n",
    "        month_str_map = {\n",
    "            \"JAN\": 1, \"FEV\": 2, \"MAR\":3, \"ABR\":4,\n",
    "            \"MAI\":5, \"JUN\":6, \"JUL\":7, \"AGO\":8,\n",
    "            \"SET\":9, \"OUT\":10, \"NOV\":11, \"DEZ\":12\n",
    "        }\n",
    "        parts = date_str.split()\n",
    "        day = int(parts[0])\n",
    "        month = month_str_map.get(parts[1].upper(), 1)\n",
    "    \n",
    "    if month in [1,2,3]:\n",
    "        return 1\n",
    "    elif month in [4,5,6]:\n",
    "        return 2\n",
    "    elif month in [7,8,9]:\n",
    "        return 3\n",
    "    else:\n",
    "        return 4\n"
   ]
  },
  {
   "cell_type": "code",
   "execution_count": null,
   "id": "326432c2",
   "metadata": {},
   "outputs": [],
   "source": [
    "def get_ano_from_path(path):\n",
    "    # Exemplo: path.parts pode ter \"matematica 2024\"\n",
    "    for part in path.parts:\n",
    "        match = re.search(r\"(\\d{4})\", part)\n",
    "        if match:\n",
    "            return int(match.group(1))\n",
    "    return None"
   ]
  },
  {
   "cell_type": "code",
   "execution_count": null,
   "id": "1e0aa8e5",
   "metadata": {},
   "outputs": [],
   "source": [
    "def extrat_text_pdfs_in_folder(folder_path):\n",
    "    \"\"\"Extrai textos de todos PDFs dentro de uma pasta (não recursivo)\"\"\"\n",
    "    folder = Path(folder_path)\n",
    "    texts = []\n",
    "    pdf_files = list(folder.glob(\"*.pdf\"))\n",
    "    for pdf_file in pdf_files:\n",
    "        print(f\"Lendo arquivo: {pdf_file.name}\")\n",
    "        doc = fitz.open(str(pdf_file))\n",
    "        text = \"\"\n",
    "        for page in doc:\n",
    "            text += page.get_text()\n",
    "        doc.close()\n",
    "        texts.append((pdf_file, text))\n",
    "    return texts"
   ]
  },
  {
   "cell_type": "code",
   "execution_count": null,
   "id": "9b8c0be3",
   "metadata": {},
   "outputs": [],
   "source": [
    "def extract_competencias(text):\n",
    "    # tenta encontrar a seção \"Competências\" ou \"Habilidades\"\n",
    "    match = re.search(r\"(Competências|Habilidades| Expectativas de Aprendizagem)\\s*:(.*?)(\\n\\n|$)\", text, re.DOTALL)\n",
    "    if match:\n",
    "        competencias_text = match.group(2).strip()\n",
    "        # separar por linha ou por '-', como for o padrão\n",
    "        competencias_list = re.findall(r\"[-•]\\s*(.*)\", competencias_text)\n",
    "        if competencias_list:\n",
    "            return competencias_list\n",
    "        else:\n",
    "            return [competencias_text]  # pode ser só uma frase\n",
    "    return []"
   ]
  },
  {
   "cell_type": "code",
   "execution_count": null,
   "id": "27327aac",
   "metadata": {},
   "outputs": [],
   "source": [
    "path = Path().resolve() #/ \"bases/matematica 2024/01.04 a 14.04.2024_ 1A_ Planejamento de Matemática\"\n",
    "current_file = path / \"bases/conteudo\"\n",
    "\n"
   ]
  },
  {
   "cell_type": "code",
   "execution_count": null,
   "id": "24c9793f",
   "metadata": {},
   "outputs": [],
   "source": [
    "def extrat_text_pasta(folder_path):\n",
    "    folder = Path(folder_path)\n",
    "    all_text = \"\"\n",
    "    pdf_files = list(folder.glob(\"*.pdf\"))  # pega todos PDFs na pasta\n",
    "\n",
    "    for pdf_file in pdf_files:\n",
    "        print(f\"Lendo arquivo: {pdf_file.name}\")\n",
    "        doc = fitz.open(str(pdf_file))\n",
    "        for page in doc:\n",
    "            all_text += page.get_text()\n",
    "        doc.close()\n",
    "\n",
    "    return all_text"
   ]
  },
  {
   "cell_type": "code",
   "execution_count": null,
   "id": "11785f7a",
   "metadata": {},
   "outputs": [],
   "source": [
    "def clean_text(text):\n",
    "    text = re.sub(r\"http://professor:80.*?\\n\", \"\", text)\n",
    "    text = re.sub(r\"Emitido em.*?\\n\", \"\", text)\n",
    "    text = re.sub(r\"Pagina: \\d+ de \\d+\", \"\", text)\n",
    "    text = re.sub(r\"[_]{3,}\", \"\", text)\n",
    "    text = re.sub(r\"\\n{3,}\", \"\\n\\n\", text)\n",
    "    return text "
   ]
  },
  {
   "cell_type": "code",
   "execution_count": null,
   "id": "efb5c532",
   "metadata": {},
   "outputs": [],
   "source": [
    "def split_by_lessons(text, path, materia):\n",
    "    meses = \"JAN|FEV|MAR|ABR|MAI|JUN|JUL|AGO|SET|OUT|NOV|DEZ\"\n",
    "    blocks = re.split(rf\"(?=\\d{{1,2}} ({meses}))\", text, flags=re.IGNORECASE)\n",
    "    lessons = []\n",
    "    ano = get_ano_from_path(path)\n",
    "    for block in blocks:\n",
    "        date_match = re.match(rf\"(\\d{{1,2}} ({meses}))\", block, flags=re.IGNORECASE)\n",
    "        if date_match:\n",
    "            date = date_match.group(1)\n",
    "            bimestre = get_bimestre_from_date(date)\n",
    "            lesson_data = {\n",
    "                \"ano\": ano,\n",
    "                \"bimestre\": bimestre,\n",
    "                \"materia\": materia,\n",
    "                \"data\": date,\n",
    "                \"texto\": block.strip(),\n",
    "                \"competencias\": extract_competencias(block)\n",
    "            }\n",
    "            lessons.append(lesson_data)\n",
    "    return lessons\n"
   ]
  },
  {
   "cell_type": "code",
   "execution_count": null,
   "id": "70fb7770",
   "metadata": {},
   "outputs": [],
   "source": [
    "def export_to_csv(lessons, output_csv=\"aulas_bimestre1.csv\"):\n",
    "    df = pd.DataFrame(lessons)\n",
    "    df.to_csv(output_csv, index=False)\n",
    "    print(f\"[X] Exportando para {output_csv}\")"
   ]
  },
  {
   "cell_type": "code",
   "execution_count": null,
   "id": "9b7b5b81",
   "metadata": {},
   "outputs": [
    {
     "name": "stdout",
     "output_type": "stream",
     "text": [
      "\n",
      "Processando matéria: matematica\n",
      "Lendo arquivo: 01.04 a 14.04.2024_ 1A_ Planejamento de Matemática.pdf\n",
      "Lendo arquivo: 01.08 a 14.08.2024_ Planejamento de Matemática_ 1A.pdf\n",
      "Lendo arquivo: 04.03 a 17.03.2024_ 1A_ Planejamento de Matemática.pdf\n",
      "Lendo arquivo: 05.02 a 18.02.2024_ 1A_ Planejamento de Matemática.pdf\n",
      "Lendo arquivo: 05.12 a 17.12.2024_ 1A_ Planejamento de Matemática.pdf\n",
      "Lendo arquivo: 07.11 a 20.11.2024_ 1A_ Planejamento de Matemática.pdf\n",
      "Lendo arquivo: 10.06 a 23.06.2024_ 1A_ Planejamento de Matemática.pdf\n",
      "Lendo arquivo: 10.10 a 23.10.2024_ 1A_ Planejamento de Matemática.pdf\n",
      "Lendo arquivo: 12.09 a 25.09.2024_ 1A_ Planejamento de Matemática.pdf\n",
      "Lendo arquivo: 13.05 a 26.05.2024_ 1A_ Planejamento de Matemática.pdf\n",
      "Lendo arquivo: 15.04  a 28.04.2024_ 1A_ Planejamento de Matemática.pdf\n",
      "Lendo arquivo: 15.08  a 28.08.2024_ 1A_ Planejamento de Matemática.pdf\n",
      "Lendo arquivo: 18.03 a 31.03.2024_ 1A_ Planejamento de Matemática.pdf\n",
      "Lendo arquivo: 19.02 a 03.03.2024_ 1A_ Planejamento de Matemática.pdf\n",
      "Lendo arquivo: 21.11 a 04.12.2024_ 1A_ Planejamento de Matemática.pdf\n",
      "Lendo arquivo: 22.01 a 04.02.2024_ 1A_ Planejamento de Matemática.pdf\n",
      "Lendo arquivo: 24.06 a 28.06.2024_ 1A_ Planejamento de Matemática.pdf\n",
      "Lendo arquivo: 24.10 a 06.11.2024_ 1A_ Planejamento de Matemática.pdf\n",
      "Lendo arquivo: 26.09  a 09.10.2024_ 1A_ Planejamento de Matemática.pdf\n",
      "Lendo arquivo: 27.05 a 09.06.2024_ 1A_ Planejamento de Matemática.pdf\n",
      "Lendo arquivo: 29.04 a 29.05.2024_ 1A_ Planejamento de Matemática.pdf\n",
      "Lendo arquivo: 29.08  a 11.09.2024_ 1A_ Planejamento de Matemática.pdf\n",
      "\n",
      "Processando matéria: portugues\n",
      "Lendo arquivo: 01.04 a 14.04.2024_ Planejamento de Português_ 1A - Copia.pdf\n",
      "Lendo arquivo: 01.08 a 14.08.2024_ Planejamento de Português_ 1A - Copia.pdf\n",
      "Lendo arquivo: 05 a 18.02.2024_ Planejamento de Português_ 1A - Copia.pdf\n",
      "Lendo arquivo: 05.12 a 17.12.2024_ Planejamento de Português_ 1A.pdf\n",
      "Lendo arquivo: 07.11 a 21.11.2024_ Planejamento de Português_ 1A.pdf\n",
      "Lendo arquivo: 10.06 a 23.06.2024_ Planejamento de Português_ 1A.pdf\n",
      "Lendo arquivo: 10.10 a 23.10.2024_ Planejamento de Português_ 1A.pdf\n",
      "Lendo arquivo: 12.09 a 25.09.2024_ Planejamento de Português_ 1A.pdf\n",
      "Lendo arquivo: 13.05 a 26.05.2024_ Planejamento de Português_ 1A.pdf\n",
      "Lendo arquivo: 15.04 a 28.04.2024_ Planejamento de Português_ 1A.pdf\n",
      "Lendo arquivo: 15.08 a 28.08.2024_ Planejamento de Português_ 1A.pdf\n",
      "Lendo arquivo: 18.03 a 31.03.2024_ Planejamento de Português_ 1A.pdf\n",
      "Lendo arquivo: 19.02 a 03.03.2024_ Planejamento de Português_ 1A.pdf\n",
      "Lendo arquivo: 21.11 a 04.12.2024_ Planejamento de Português_ 1A.pdf\n",
      "Lendo arquivo: 22.01 a 04.02.2024_ Planejamento.pdf\n",
      "Lendo arquivo: 24 a 28.06.2024_ Planejamento de Português_ 1A.pdf\n",
      "Lendo arquivo: 24.10 a 06.11.2024_ Planejamento de Português_ 1A.pdf\n",
      "Lendo arquivo: 26.09 a 09.10.2024_ Planejamento de Português_ 1A.pdf\n",
      "Lendo arquivo: 29.04 a 12.05.2024_ Planejamento de Português_ 1A.pdf\n",
      "Lendo arquivo: 29.08 a 11.09.2024_ Planejamento de Português_ 1A.pdf\n",
      "[X] Exportando para aulas_todas_materias.csv\n"
     ]
    }
   ],
   "source": [
    "todas_lessons = []\n",
    "\n",
    "for materia_folder in current_file.iterdir():\n",
    "    if materia_folder.is_dir():\n",
    "        materia = materia_folder.name.lower()\n",
    "        print(f\"\\nProcessando matéria: {materia}\")\n",
    "        textos = extrat_text_pdfs_in_folder(materia_folder)\n",
    "        for (pdf_file, texto) in textos:\n",
    "            texto_limpo = clean_text(texto)\n",
    "            lessons = split_by_lessons(texto_limpo, pdf_file.parent, materia)\n",
    "            todas_lessons.extend(lessons)\n",
    "\n",
    "export_to_csv(todas_lessons, output_csv=\"aulas_todas_materias.csv\")"
   ]
  }
 ],
 "metadata": {
  "kernelspec": {
   "display_name": "venv",
   "language": "python",
   "name": "python3"
  },
  "language_info": {
   "codemirror_mode": {
    "name": "ipython",
    "version": 3
   },
   "file_extension": ".py",
   "mimetype": "text/x-python",
   "name": "python",
   "nbconvert_exporter": "python",
   "pygments_lexer": "ipython3",
   "version": "3.12.2"
  }
 },
 "nbformat": 4,
 "nbformat_minor": 5
}
